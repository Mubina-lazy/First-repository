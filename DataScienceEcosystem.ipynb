{
 "cells": [
  {
   "cell_type": "code",
   "execution_count": 2,
   "id": "f208b3f9-1dc3-4bda-a4dd-3a29c5ed06f7",
   "metadata": {},
   "outputs": [
    {
     "name": "stdout",
     "output_type": "stream",
     "text": [
      "Hello IBM\n"
     ]
    }
   ],
   "source": [
    "print(\"Hello IBM\")"
   ]
  },
  {
   "cell_type": "markdown",
   "id": "34db7146-2c52-4029-b0c4-03caa4560530",
   "metadata": {},
   "source": [
    "# H1: Data Science Tools and Ecosystem"
   ]
  },
  {
   "cell_type": "markdown",
   "id": "9ee4c1c3-f19d-40d0-bbf0-aa6c40a8cf4f",
   "metadata": {},
   "source": [
    "In this notebook, Data Science Tools and Ecosystem are summarized"
   ]
  },
  {
   "cell_type": "markdown",
   "id": "9022cc6b-9b39-426b-b45a-37b91bc1b7cb",
   "metadata": {},
   "source": [
    "Some of the popular languages that Data SCientists use are:\n",
    "1. Python\n",
    "2. R\n",
    "3. SQL"
   ]
  },
  {
   "cell_type": "markdown",
   "id": "6aff0fb3-da54-4a0d-a2f7-03aa87a5a48f",
   "metadata": {},
   "source": [
    "Some of the commonly used libraries used by Data Scientists include:\n",
    "* NumPy\n",
    "* Pandas\n",
    "* Matplotlib"
   ]
  },
  {
   "cell_type": "markdown",
   "id": "3a16e739-fade-4693-8023-a9f3eee6bc2c",
   "metadata": {},
   "source": [
    "| Data science tools |\n",
    "|--------------------|\n",
    "|Jupyter Notebook |\n",
    "| RStudio |\n",
    "| Apache Zeppelin |"
   ]
  },
  {
   "cell_type": "markdown",
   "id": "141d0494-36e9-4261-86b7-87ce9b7451dd",
   "metadata": {},
   "source": [
    "### H3: Below are a few example of evaluating arithmetic expewssion in Python"
   ]
  },
  {
   "cell_type": "code",
   "execution_count": 13,
   "id": "f474162a-b9f2-4891-b0a5-d5cc8cf16fe1",
   "metadata": {},
   "outputs": [
    {
     "data": {
      "text/plain": [
       "17"
      ]
     },
     "execution_count": 13,
     "metadata": {},
     "output_type": "execute_result"
    }
   ],
   "source": [
    "(3*4)+5\n",
    "# This a simple arithmetic expression to mutiply then add integers"
   ]
  },
  {
   "cell_type": "code",
   "execution_count": 15,
   "id": "384f66f1-e371-4863-b4e4-ebe8886b1b3f",
   "metadata": {},
   "outputs": [
    {
     "data": {
      "text/plain": [
       "3.3333333333333335"
      ]
     },
     "execution_count": 15,
     "metadata": {},
     "output_type": "execute_result"
    }
   ],
   "source": [
    "#This will convert 200 minutes to hours by diving by 60\n",
    "hours = 200/60\n",
    "hours"
   ]
  },
  {
   "cell_type": "markdown",
   "id": "3f8c0f2c-9f9f-47f6-a243-e67e61bcd736",
   "metadata": {},
   "source": [
    "**Objectives:**\n",
    "\n",
    "- List popular languages for Data Science\n",
    "- Identify common libraries used in Data Science\n",
    "- Understand different open-source development environments\n",
    "- Perform basic arithmetic operations in Python\n",
    "- Convert time units using Python expressions"
   ]
  },
  {
   "cell_type": "markdown",
   "id": "ef090606-5669-4bf5-872b-0207c6162d9f",
   "metadata": {},
   "source": [
    "## Author\n",
    "Mubinavegim Tulkinjonova"
   ]
  },
  {
   "cell_type": "code",
   "execution_count": null,
   "id": "2d637e8c-0512-4d83-95dd-4432718925b3",
   "metadata": {},
   "outputs": [],
   "source": []
  }
 ],
 "metadata": {
  "kernelspec": {
   "display_name": "Python [conda env:base] *",
   "language": "python",
   "name": "conda-base-py"
  },
  "language_info": {
   "codemirror_mode": {
    "name": "ipython",
    "version": 3
   },
   "file_extension": ".py",
   "mimetype": "text/x-python",
   "name": "python",
   "nbconvert_exporter": "python",
   "pygments_lexer": "ipython3",
   "version": "3.12.7"
  }
 },
 "nbformat": 4,
 "nbformat_minor": 5
}
